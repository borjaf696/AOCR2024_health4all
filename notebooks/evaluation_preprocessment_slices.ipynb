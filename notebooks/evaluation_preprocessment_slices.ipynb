{
 "cells": [
  {
   "cell_type": "code",
   "execution_count": 6,
   "metadata": {},
   "outputs": [],
   "source": [
    "import pandas as pd\n",
    "\n",
    "df_gt_slices_own = pd.read_csv(\n",
    "    \"../aocr2024/TrainValid_ground_truth_slices.csv\"\n",
    ")\n",
    "df_gt_slices = pd.read_csv(\n",
    "    \"../aocr2024/TrainValid_ground_truth.csv\"\n",
    ")\n",
    "# Merge based on id\n",
    "df_merged = pd.merge(\n",
    "    left = df_gt_slices_own,\n",
    "    right = df_gt_slices,\n",
    "    left_on = [\"id\"],\n",
    "    right_on = [\"id\"],\n",
    "    suffixes = [\"_own\", \"_real\"]\n",
    ")\n",
    "df_merged[\"match\"] = (df_merged.label_own == df_merged.label_real)"
   ]
  },
  {
   "cell_type": "code",
   "execution_count": 7,
   "metadata": {},
   "outputs": [
    {
     "data": {
      "text/plain": [
       "1.0"
      ]
     },
     "execution_count": 7,
     "metadata": {},
     "output_type": "execute_result"
    }
   ],
   "source": [
    "df_merged.match.mean()"
   ]
  },
  {
   "cell_type": "code",
   "execution_count": null,
   "metadata": {},
   "outputs": [],
   "source": []
  }
 ],
 "metadata": {
  "kernelspec": {
   "display_name": ".venv",
   "language": "python",
   "name": "python3"
  },
  "language_info": {
   "codemirror_mode": {
    "name": "ipython",
    "version": 3
   },
   "file_extension": ".py",
   "mimetype": "text/x-python",
   "name": "python",
   "nbconvert_exporter": "python",
   "pygments_lexer": "ipython3",
   "version": "3.11.0"
  }
 },
 "nbformat": 4,
 "nbformat_minor": 2
}
