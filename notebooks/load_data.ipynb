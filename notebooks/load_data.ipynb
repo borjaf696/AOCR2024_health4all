{
 "cells": [
  {
   "cell_type": "code",
   "execution_count": null,
   "metadata": {},
   "outputs": [],
   "source": [
    "import torch\n",
    "import torchio as tio\n",
    "import glob\n",
    "\n",
    "import matplotlib.pyplot as plt\n",
    "\n",
    "NUMBER_IMAGES_TO_READ = 2\n",
    "\n",
    "folder_images = '../aocr2024/1_Train,Valid_Image/'\n",
    "image_routes = sorted(glob.glob(f'{folder_images}*.nii.gz'))\n",
    "\n",
    "subjects = []\n",
    "for i, ruta in enumerate(image_routes):\n",
    "    if i > NUMBER_IMAGES_TO_READ:\n",
    "        break\n",
    "    subjects.append(\n",
    "        tio.Subject(image=tio.ScalarImage(ruta))\n",
    "    )\n",
    "\n",
    "dataset = tio.SubjectsDataset(subjects)\n",
    "\n",
    "batch_size = 1 \n",
    "data_loader = torch.utils.data.DataLoader(\n",
    "    dataset=dataset,\n",
    "    batch_size=batch_size,\n",
    "    shuffle=False\n",
    ")\n",
    "\n",
    "for batch in data_loader:\n",
    "    image = batch['image']\n"
   ]
  },
  {
   "cell_type": "code",
   "execution_count": null,
   "metadata": {},
   "outputs": [],
   "source": [
    "imagen_array[0, 0, :, :].shape"
   ]
  },
  {
   "cell_type": "code",
   "execution_count": null,
   "metadata": {},
   "outputs": [],
   "source": [
    "import numpy as np\n",
    "\n",
    "imagen_array = dataset[0][\"image\"].numpy()\n",
    "\n",
    "plt.figure() \n",
    "plt.imshow(np.squeeze(imagen_array[0, :, :, 89]), cmap='gray')  \n",
    "plt.title('Imagen NIfTI')\n",
    "plt.axis('off') \n",
    "plt.show()"
   ]
  }
 ],
 "metadata": {
  "kernelspec": {
   "display_name": ".venv",
   "language": "python",
   "name": "python3"
  },
  "language_info": {
   "codemirror_mode": {
    "name": "ipython",
    "version": 3
   },
   "file_extension": ".py",
   "mimetype": "text/x-python",
   "name": "python",
   "nbconvert_exporter": "python",
   "pygments_lexer": "ipython3",
   "version": "3.11.0"
  },
  "orig_nbformat": 4
 },
 "nbformat": 4,
 "nbformat_minor": 2
}
